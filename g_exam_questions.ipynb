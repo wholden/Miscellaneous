{
 "cells": [
  {
   "cell_type": "code",
   "execution_count": 2,
   "metadata": {
    "collapsed": true
   },
   "outputs": [],
   "source": [
    "from xraydb import xraydb\n",
    "import pandas as pd\n",
    "import numpy as np\n",
    "import matplotlib.pyplot as plt\n",
    "import lmfit"
   ]
  },
  {
   "cell_type": "code",
   "execution_count": 3,
   "metadata": {
    "collapsed": true
   },
   "outputs": [],
   "source": [
    "xdb = xraydb.XrayDB()"
   ]
  },
  {
   "cell_type": "code",
   "execution_count": 90,
   "metadata": {},
   "outputs": [
    {
     "data": {
      "text/plain": [
       "{'Ka1': XrayLine(energy=2010.5, intensity=0.589976, initial_level='K', final_level='L3'),\n",
       " 'Ka2': XrayLine(energy=2009.5, intensity=0.296168, initial_level='K', final_level='L2'),\n",
       " 'Ka3': XrayLine(energy=1956.5, intensity=0.000161948, initial_level='K', final_level='L1'),\n",
       " 'Kb1': XrayLine(energy=2139.5, intensity=0.0748974, initial_level='K', final_level='M3'),\n",
       " 'Kb3': XrayLine(energy=2138.5, intensity=0.0387969, initial_level='K', final_level='M2')}"
      ]
     },
     "execution_count": 90,
     "metadata": {},
     "output_type": "execute_result"
    }
   ],
   "source": [
    "xdb.xray_lines('P',initial_level='K')"
   ]
  },
  {
   "cell_type": "code",
   "execution_count": 78,
   "metadata": {},
   "outputs": [],
   "source": [
    "ka1energies = []\n",
    "atomicnumbersa = np.arange(4,90)\n",
    "for i in atomicnumbersa:\n",
    "    ka1energies.append(xdb.xray_lines(i,initial_level='K')['Ka1'].energy)"
   ]
  },
  {
   "cell_type": "code",
   "execution_count": 79,
   "metadata": {},
   "outputs": [],
   "source": [
    "kb1energies = []\n",
    "atomicnumbersb = np.arange(12,90)\n",
    "for i in atomicnumbersb:\n",
    "    kb1energies.append(xdb.xray_lines(i,initial_level='K')['Kb1'].energy)"
   ]
  },
  {
   "cell_type": "code",
   "execution_count": 80,
   "metadata": {
    "collapsed": true
   },
   "outputs": [],
   "source": [
    "def quadratic(x,a,b,c):\n",
    "    return a*x**2+b*x+c"
   ]
  },
  {
   "cell_type": "code",
   "execution_count": 81,
   "metadata": {
    "collapsed": true
   },
   "outputs": [],
   "source": [
    "quadmod = lmfit.Model(quadratic)"
   ]
  },
  {
   "cell_type": "code",
   "execution_count": 82,
   "metadata": {},
   "outputs": [],
   "source": [
    "pars = quadmod.make_params()"
   ]
  },
  {
   "cell_type": "code",
   "execution_count": 83,
   "metadata": {
    "collapsed": true
   },
   "outputs": [],
   "source": [
    "pars['a'].set(value = 50)\n",
    "pars['b'].set(value=1)\n",
    "pars['c'].set(value=0)"
   ]
  },
  {
   "cell_type": "code",
   "execution_count": 84,
   "metadata": {},
   "outputs": [],
   "source": [
    "out = quadmod.fit(ka1energies,pars,x=atomicnumbersa)"
   ]
  },
  {
   "cell_type": "code",
   "execution_count": 89,
   "metadata": {},
   "outputs": [
    {
     "data": {
      "image/png": "[encoded data removed]",
      "text/plain": [
       "<matplotlib.figure.Figure at 0x280b94b3780>"
      ]
     },
     "metadata": {},
     "output_type": "display_data"
    }
   ],
   "source": [
    "plt.figure(figsize=(8,6))\n",
    "plt.plot(atomicnumbersa,ka1energies,'o',markersize=2)\n",
    "# plt.plot(atomicnumbersa,out.best_fit)\n",
    "plt.plot(atomicnumbersb,kb1energies,'o',markersize=2)\n",
    "# plt.plot(atomicnumbersb,out.best_fit,label='init')\n",
    "plt.xlabel('Atomic Number (Z)')\n",
    "plt.ylabel('Energy (eV)')\n",
    "plt.show()"
   ]
  },
  {
   "cell_type": "code",
   "execution_count": 91,
   "metadata": {
    "scrolled": true
   },
   "outputs": [
    {
     "data": {
      "text/plain": [
       "{'Ka1': 72.58051968301703,\n",
       " 'Ka2': 36.435426785970598,\n",
       " 'Ka3': 0.019923301967580447,\n",
       " 'Kb1': 9.21409042894423,\n",
       " 'Kb3': 4.7729045996617554,\n",
       " 'Lb3': 0.15946040251242563,\n",
       " 'Lb4': 0.11257899085399807,\n",
       " 'Ll': 1.4678610671750771,\n",
       " 'Ln': 0.75254314037034087}"
      ]
     },
     "execution_count": 91,
     "metadata": {},
     "output_type": "execute_result"
    }
   ],
   "source": [
    "xdb.xray_line_strengths('P')"
   ]
  },
  {
   "cell_type": "code",
   "execution_count": 91,
   "metadata": {
    "scrolled": true
   },
   "outputs": [
    {
     "data": {
      "text/plain": [
       "{'Ka1': 72.58051968301703,\n",
       " 'Ka2': 36.435426785970598,\n",
       " 'Ka3': 0.019923301967580447,\n",
       " 'Kb1': 9.21409042894423,\n",
       " 'Kb3': 4.7729045996617554,\n",
       " 'Lb3': 0.15946040251242563,\n",
       " 'Lb4': 0.11257899085399807,\n",
       " 'Ll': 1.4678610671750771,\n",
       " 'Ln': 0.75254314037034087}"
      ]
     },
     "execution_count": 91,
     "metadata": {},
     "output_type": "execute_result"
    }
   ],
   "source": [
    "xdb.xray_line_strengths('P')"
   ]
  },
  {
   "cell_type": "code",
   "execution_count": null,
   "metadata": {
    "collapsed": true
   },
   "outputs": [],
   "source": []
  },
  {
   "cell_type": "markdown",
   "metadata": {},
   "source": [
    "# Read nist table downloaded as csv for all elements"
   ]
  },
  {
   "cell_type": "markdown",
   "metadata": {},
   "source": [
    "https://physics.nist.gov/cgi-bin/XrayTrans/search.pl?element=All&trans=All&lower=0&upper=1000000&units=eV"
   ]
  },
  {
   "cell_type": "code",
   "execution_count": 120,
   "metadata": {},
   "outputs": [],
   "source": [
    "nist = pd.read_table(r\"C:\\Users\\William H\\Documents\\GitHub\\Miscellaneous\\NIST_xray_transitions.txt\",skiprows=5)"
   ]
  },
  {
   "cell_type": "markdown",
   "metadata": {},
   "source": [
    "Take only direct experimentally measured transitions, take only a few columns"
   ]
  },
  {
   "cell_type": "code",
   "execution_count": 146,
   "metadata": {},
   "outputs": [],
   "source": [
    "nistexp = nist[np.logical_not(np.isnan(nist['Direct (eV)']))]"
   ]
  },
  {
   "cell_type": "code",
   "execution_count": 151,
   "metadata": {
    "collapsed": true
   },
   "outputs": [],
   "source": [
    "fewcolumns = ['Ele.', 'Trans.', 'Theory (eV)', 'Direct (eV)','Unc. (eV).1']"
   ]
  },
  {
   "cell_type": "code",
   "execution_count": 156,
   "metadata": {},
   "outputs": [
    {
     "data": {
      "text/html": [
       "<div>\n",
       "<style>\n",
       "    .dataframe thead tr:only-child th {\n",
       "        text-align: right;\n",
       "    }\n",
       "\n",
       "    .dataframe thead th {\n",
       "        text-align: left;\n",
       "    }\n",
       "\n",
       "    .dataframe tbody tr th {\n",
       "        vertical-align: top;\n",
       "    }\n",
       "</style>\n",
       "<table border=\"1\" class=\"dataframe\">\n",
       "  <thead>\n",
       "    <tr style=\"text-align: right;\">\n",
       "      <th></th>\n",
       "      <th>Ele.</th>\n",
       "      <th>Trans.</th>\n",
       "      <th>Theory (eV)</th>\n",
       "      <th>Direct (eV)</th>\n",
       "      <th>Unc. (eV).1</th>\n",
       "    </tr>\n",
       "  </thead>\n",
       "  <tbody>\n",
       "    <tr>\n",
       "      <th>646</th>\n",
       "      <td>Ru</td>\n",
       "      <td>L3M1</td>\n",
       "      <td>2253.80</td>\n",
       "      <td>2252.790</td>\n",
       "      <td>0.180</td>\n",
       "    </tr>\n",
       "    <tr>\n",
       "      <th>679</th>\n",
       "      <td>Ru</td>\n",
       "      <td>L2M1</td>\n",
       "      <td>2382.60</td>\n",
       "      <td>2381.990</td>\n",
       "      <td>0.140</td>\n",
       "    </tr>\n",
       "    <tr>\n",
       "      <th>718</th>\n",
       "      <td>Ru</td>\n",
       "      <td>L3M4</td>\n",
       "      <td>2554.23</td>\n",
       "      <td>2554.330</td>\n",
       "      <td>0.055</td>\n",
       "    </tr>\n",
       "    <tr>\n",
       "      <th>719</th>\n",
       "      <td>Ru</td>\n",
       "      <td>L3M5</td>\n",
       "      <td>2559.06</td>\n",
       "      <td>2558.579</td>\n",
       "      <td>0.039</td>\n",
       "    </tr>\n",
       "    <tr>\n",
       "      <th>748</th>\n",
       "      <td>Ru</td>\n",
       "      <td>L2M4</td>\n",
       "      <td>2683.10</td>\n",
       "      <td>2683.263</td>\n",
       "      <td>0.026</td>\n",
       "    </tr>\n",
       "    <tr>\n",
       "      <th>755</th>\n",
       "      <td>Ru</td>\n",
       "      <td>L1M2</td>\n",
       "      <td>2740.70</td>\n",
       "      <td>2741.150</td>\n",
       "      <td>0.180</td>\n",
       "    </tr>\n",
       "    <tr>\n",
       "      <th>759</th>\n",
       "      <td>Ru</td>\n",
       "      <td>L1M3</td>\n",
       "      <td>2762.50</td>\n",
       "      <td>2763.390</td>\n",
       "      <td>0.270</td>\n",
       "    </tr>\n",
       "    <tr>\n",
       "      <th>760</th>\n",
       "      <td>Ru</td>\n",
       "      <td>L3N1</td>\n",
       "      <td>2767.10</td>\n",
       "      <td>2763.390</td>\n",
       "      <td>0.270</td>\n",
       "    </tr>\n",
       "    <tr>\n",
       "      <th>785</th>\n",
       "      <td>Ru</td>\n",
       "      <td>L3N4</td>\n",
       "      <td>2837.79</td>\n",
       "      <td>2835.960</td>\n",
       "      <td>0.190</td>\n",
       "    </tr>\n",
       "    <tr>\n",
       "      <th>786</th>\n",
       "      <td>Ru</td>\n",
       "      <td>L3N5</td>\n",
       "      <td>2838.40</td>\n",
       "      <td>2835.960</td>\n",
       "      <td>0.190</td>\n",
       "    </tr>\n",
       "    <tr>\n",
       "      <th>789</th>\n",
       "      <td>Ru</td>\n",
       "      <td>L3 edge</td>\n",
       "      <td>2848.19</td>\n",
       "      <td>2837.770</td>\n",
       "      <td>0.960</td>\n",
       "    </tr>\n",
       "    <tr>\n",
       "      <th>796</th>\n",
       "      <td>Ru</td>\n",
       "      <td>L2N1</td>\n",
       "      <td>2895.90</td>\n",
       "      <td>2891.850</td>\n",
       "      <td>0.200</td>\n",
       "    </tr>\n",
       "    <tr>\n",
       "      <th>813</th>\n",
       "      <td>Ru</td>\n",
       "      <td>L2N4</td>\n",
       "      <td>2966.64</td>\n",
       "      <td>2964.520</td>\n",
       "      <td>0.210</td>\n",
       "    </tr>\n",
       "    <tr>\n",
       "      <th>816</th>\n",
       "      <td>Ru</td>\n",
       "      <td>L2 edge</td>\n",
       "      <td>2977.03</td>\n",
       "      <td>2966.100</td>\n",
       "      <td>1.100</td>\n",
       "    </tr>\n",
       "    <tr>\n",
       "      <th>857</th>\n",
       "      <td>Ru</td>\n",
       "      <td>L1N2</td>\n",
       "      <td>3176.10</td>\n",
       "      <td>3180.910</td>\n",
       "      <td>0.240</td>\n",
       "    </tr>\n",
       "    <tr>\n",
       "      <th>860</th>\n",
       "      <td>Ru</td>\n",
       "      <td>L1N3</td>\n",
       "      <td>3182.50</td>\n",
       "      <td>3180.910</td>\n",
       "      <td>0.240</td>\n",
       "    </tr>\n",
       "    <tr>\n",
       "      <th>870</th>\n",
       "      <td>Ru</td>\n",
       "      <td>L1 edge</td>\n",
       "      <td>3232.69</td>\n",
       "      <td>3232.900</td>\n",
       "      <td>6.200</td>\n",
       "    </tr>\n",
       "    <tr>\n",
       "      <th>3068</th>\n",
       "      <td>Ru</td>\n",
       "      <td>KL2</td>\n",
       "      <td>19150.67</td>\n",
       "      <td>19150.490</td>\n",
       "      <td>0.180</td>\n",
       "    </tr>\n",
       "    <tr>\n",
       "      <th>3075</th>\n",
       "      <td>Ru</td>\n",
       "      <td>KL3</td>\n",
       "      <td>19279.51</td>\n",
       "      <td>19279.160</td>\n",
       "      <td>0.180</td>\n",
       "    </tr>\n",
       "    <tr>\n",
       "      <th>3270</th>\n",
       "      <td>Ru</td>\n",
       "      <td>KM2</td>\n",
       "      <td>21635.70</td>\n",
       "      <td>21634.650</td>\n",
       "      <td>0.160</td>\n",
       "    </tr>\n",
       "    <tr>\n",
       "      <th>3272</th>\n",
       "      <td>Ru</td>\n",
       "      <td>KM3</td>\n",
       "      <td>21657.50</td>\n",
       "      <td>21656.750</td>\n",
       "      <td>0.160</td>\n",
       "    </tr>\n",
       "    <tr>\n",
       "      <th>3285</th>\n",
       "      <td>Ru</td>\n",
       "      <td>KM4</td>\n",
       "      <td>21833.74</td>\n",
       "      <td>21828.000</td>\n",
       "      <td>11.000</td>\n",
       "    </tr>\n",
       "    <tr>\n",
       "      <th>3286</th>\n",
       "      <td>Ru</td>\n",
       "      <td>KM5</td>\n",
       "      <td>21838.57</td>\n",
       "      <td>21833.600</td>\n",
       "      <td>5.100</td>\n",
       "    </tr>\n",
       "    <tr>\n",
       "      <th>3300</th>\n",
       "      <td>Ru</td>\n",
       "      <td>KN2</td>\n",
       "      <td>22071.10</td>\n",
       "      <td>22074.300</td>\n",
       "      <td>1.700</td>\n",
       "    </tr>\n",
       "    <tr>\n",
       "      <th>3301</th>\n",
       "      <td>Ru</td>\n",
       "      <td>KN3</td>\n",
       "      <td>22077.45</td>\n",
       "      <td>22074.300</td>\n",
       "      <td>1.700</td>\n",
       "    </tr>\n",
       "    <tr>\n",
       "      <th>3302</th>\n",
       "      <td>Ru</td>\n",
       "      <td>KN4</td>\n",
       "      <td>22117.30</td>\n",
       "      <td>22104.600</td>\n",
       "      <td>5.200</td>\n",
       "    </tr>\n",
       "    <tr>\n",
       "      <th>3305</th>\n",
       "      <td>Ru</td>\n",
       "      <td>KN5</td>\n",
       "      <td>22117.91</td>\n",
       "      <td>22104.600</td>\n",
       "      <td>5.200</td>\n",
       "    </tr>\n",
       "    <tr>\n",
       "      <th>3306</th>\n",
       "      <td>Ru</td>\n",
       "      <td>K edge</td>\n",
       "      <td>22127.70</td>\n",
       "      <td>22119.560</td>\n",
       "      <td>0.580</td>\n",
       "    </tr>\n",
       "  </tbody>\n",
       "</table>\n",
       "</div>"
      ],
      "text/plain": [
       "     Ele.   Trans.  Theory (eV)  Direct (eV)  Unc. (eV).1\n",
       "646    Ru     L3M1      2253.80     2252.790        0.180\n",
       "679    Ru     L2M1      2382.60     2381.990        0.140\n",
       "718    Ru     L3M4      2554.23     2554.330        0.055\n",
       "719    Ru     L3M5      2559.06     2558.579        0.039\n",
       "748    Ru     L2M4      2683.10     2683.263        0.026\n",
       "755    Ru     L1M2      2740.70     2741.150        0.180\n",
       "759    Ru     L1M3      2762.50     2763.390        0.270\n",
       "760    Ru     L3N1      2767.10     2763.390        0.270\n",
       "785    Ru     L3N4      2837.79     2835.960        0.190\n",
       "786    Ru     L3N5      2838.40     2835.960        0.190\n",
       "789    Ru  L3 edge      2848.19     2837.770        0.960\n",
       "796    Ru     L2N1      2895.90     2891.850        0.200\n",
       "813    Ru     L2N4      2966.64     2964.520        0.210\n",
       "816    Ru  L2 edge      2977.03     2966.100        1.100\n",
       "857    Ru     L1N2      3176.10     3180.910        0.240\n",
       "860    Ru     L1N3      3182.50     3180.910        0.240\n",
       "870    Ru  L1 edge      3232.69     3232.900        6.200\n",
       "3068   Ru      KL2     19150.67    19150.490        0.180\n",
       "3075   Ru      KL3     19279.51    19279.160        0.180\n",
       "3270   Ru      KM2     21635.70    21634.650        0.160\n",
       "3272   Ru      KM3     21657.50    21656.750        0.160\n",
       "3285   Ru      KM4     21833.74    21828.000       11.000\n",
       "3286   Ru      KM5     21838.57    21833.600        5.100\n",
       "3300   Ru      KN2     22071.10    22074.300        1.700\n",
       "3301   Ru      KN3     22077.45    22074.300        1.700\n",
       "3302   Ru      KN4     22117.30    22104.600        5.200\n",
       "3305   Ru      KN5     22117.91    22104.600        5.200\n",
       "3306   Ru   K edge     22127.70    22119.560        0.580"
      ]
     },
     "execution_count": 156,
     "metadata": {},
     "output_type": "execute_result"
    }
   ],
   "source": [
    "nistexp[nistexp['Ele.']=='Ru'][fewcolumns]"
   ]
  },
  {
   "cell_type": "markdown",
   "metadata": {},
   "source": [
    "# can get nist data from url directly without saving locally"
   ]
  },
  {
   "cell_type": "code",
   "execution_count": 157,
   "metadata": {
    "collapsed": true
   },
   "outputs": [],
   "source": [
    "import urllib"
   ]
  },
  {
   "cell_type": "code",
   "execution_count": 198,
   "metadata": {
    "collapsed": true
   },
   "outputs": [],
   "source": [
    "req = urllib.request.urlopen(r'https://physics.nist.gov/cgi-bin/XrayTrans/search.pl?download=tab&element=All&trans=All&lower=0&upper=1000000&units=eV')"
   ]
  },
  {
   "cell_type": "code",
   "execution_count": 217,
   "metadata": {
    "collapsed": true
   },
   "outputs": [],
   "source": [
    "n = pd.read_table(urllib.request.urlopen(r'https://physics.nist.gov/cgi-bin/XrayTrans/search.pl?download=tab&element=All&trans=All&lower=0&upper=1000000&units=eV'),skiprows=5)"
   ]
  },
  {
   "cell_type": "code",
   "execution_count": null,
   "metadata": {
    "collapsed": true
   },
   "outputs": [],
   "source": []
  }
 ],
 "metadata": {
  "kernelspec": {
   "display_name": "Python 3",
   "language": "python",
   "name": "python3"
  },
  "language_info": {
   "codemirror_mode": {
    "name": "ipython",
    "version": 3
   },
   "file_extension": ".py",
   "mimetype": "text/x-python",
   "name": "python",
   "nbconvert_exporter": "python",
   "pygments_lexer": "ipython3",
   "version": "3.6.1"
  }
 },
 "nbformat": 4,
 "nbformat_minor": 2
}
